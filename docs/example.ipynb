{
    "cells": [
        {
            "cell_type": "markdown",
            "metadata": {},
            "source": [
                "# Example Usage\n",
                "\n",
                "Welcome to the `dsci524_group13_quizit` tutorial! Let's dive into how you can use this package to create and take quizzes."
            ]
        },
        {
            "cell_type": "code",
            "execution_count": 1,
            "metadata": {},
            "outputs": [
                {
                    "name": "stdout",
                    "output_type": "stream",
                    "text": [
                        "0.1.0\n"
                    ]
                }
            ],
            "source": [
                "import dsci524_group13_quizit\n",
                "print(dsci524_group13_quizit.__version__)"
            ]
        },
        {
            "cell_type": "markdown",
            "metadata": {},
            "source": [
                "## Getting Started\n",
                "\n",
                "To get started with your quiz, create an instance of the `Quizit` class."
            ]
        },
        {
            "cell_type": "code",
            "execution_count": 2,
            "metadata": {},
            "outputs": [],
            "source": [
                "from dsci524_group13_quizit import Quizit\n",
                "\n",
                "quiz = Quizit()"
            ]
        },
        {
            "cell_type": "markdown",
            "metadata": {},
            "source": [
                "The cell above creates an instance of the `Quizit` object, which allows you to load questions, take quizzes, and view results."
            ]
        },
        {
            "cell_type": "markdown",
            "metadata": {},
            "source": [
                "## Question Types\n",
                "\n",
                "The `dsci524_group13_quizit` package currently supports two types of questions:\n",
                "- `MULTIPLE_CHOICE`: Questions with multiple options where one or more can be correct.\n",
                "- `SHORT_ANSWER`: Questions that require a short text answer."
            ]
        },
        {
            "cell_type": "code",
            "execution_count": 4,
            "metadata": {},
            "outputs": [],
            "source": [
                "from dsci524_group13_quizit import QuestionType"
            ]
        },
        {
            "cell_type": "markdown",
            "metadata": {},
            "source": [
                "To access a specific question type you can use the `QuestionType` class. Below is an example of accessing a multiple-choice question type:"
            ]
        },
        {
            "cell_type": "code",
            "execution_count": 5,
            "metadata": {},
            "outputs": [
                {
                    "name": "stdout",
                    "output_type": "stream",
                    "text": [
                        "QuestionType.MULTIPLE_CHOICE\n"
                    ]
                }
            ],
            "source": [
                "print(QuestionType.MULTIPLE_CHOICE)"
            ]
        },
        {
            "cell_type": "markdown",
            "metadata": {},
            "source": [
                "Or you can access a short-answer question type:"
            ]
        },
        {
            "cell_type": "code",
            "execution_count": 6,
            "metadata": {},
            "outputs": [
                {
                    "name": "stdout",
                    "output_type": "stream",
                    "text": [
                        "QuestionType.SHORT_ANSWER\n"
                    ]
                }
            ],
            "source": [
                "print(QuestionType.SHORT_ANSWER)"
            ]
        },
        {
            "cell_type": "markdown",
            "metadata": {},
            "source": [
                "## Loading Questions\n",
                "\n",
                "You can load questions into your quiz in two ways:\n",
                "- From a DataFrame\n",
                "- From a file\n",
                "\n",
                "**Important Notes**\n",
                "- You can only load from one of the two options at a time - you cannot simultaneously load from a file and a DataFrame.\n",
                "- You can only load one set of questions for each question type at once. Loading multiple question sets for a question type will keep only the most recent question set. For example, if you load three sets of short-answer questions, only the third set will be stored and can be taken."
            ]
        },
        {
            "cell_type": "markdown",
            "metadata": {},
            "source": [
                "### Load Questions From a File"
            ]
        },
        {
            "cell_type": "markdown",
            "metadata": {},
            "source": [
                "**Loading Multiple-Choice Questions**\n",
                "\n",
                "Let's start by loading multiple-choice questions from a file. You need to specify the file path, question type, and optionally, a delimiter to split the answers and options."
            ]
        },
        {
            "cell_type": "code",
            "execution_count": 8,
            "metadata": {},
            "outputs": [],
            "source": [
                "mcq_file_path = \"../tests/test_data/multiple_choice.csv\"\n",
                "mc_questions = quiz.load_questions(input_file=mcq_file_path, question_type=QuestionType.MULTIPLE_CHOICE, delimeter=\";\")"
            ]
        },
        {
            "cell_type": "markdown",
            "metadata": {},
            "source": [
                "The function loads the questions from the specified file, splits the options and answers based on the delimiter, and returns the questions as a DataFrame. Let's take a look at the first three questions:"
            ]
        },
        {
            "cell_type": "code",
            "execution_count": 15,
            "metadata": {},
            "outputs": [
                {
                    "data": {
                        "text/html": [
                            "<div>\n",
                            "<style scoped>\n",
                            "    .dataframe tbody tr th:only-of-type {\n",
                            "        vertical-align: middle;\n",
                            "    }\n",
                            "\n",
                            "    .dataframe tbody tr th {\n",
                            "        vertical-align: top;\n",
                            "    }\n",
                            "\n",
                            "    .dataframe thead th {\n",
                            "        text-align: right;\n",
                            "    }\n",
                            "</style>\n",
                            "<table border=\"1\" class=\"dataframe\">\n",
                            "  <thead>\n",
                            "    <tr style=\"text-align: right;\">\n",
                            "      <th></th>\n",
                            "      <th>question</th>\n",
                            "      <th>options</th>\n",
                            "      <th>answers</th>\n",
                            "      <th>explanations</th>\n",
                            "    </tr>\n",
                            "  </thead>\n",
                            "  <tbody>\n",
                            "    <tr>\n",
                            "      <th>0</th>\n",
                            "      <td>What is the capital of France?</td>\n",
                            "      <td>[Paris, London, Berlin, Madrid]</td>\n",
                            "      <td>[Paris]</td>\n",
                            "      <td>Paris is the capital and most populous city of...</td>\n",
                            "    </tr>\n",
                            "    <tr>\n",
                            "      <th>1</th>\n",
                            "      <td>Which planet is known as the Red Planet?</td>\n",
                            "      <td>[Earth, Mars, Jupiter, Saturn]</td>\n",
                            "      <td>[Mars]</td>\n",
                            "      <td>Mars is often called the 'Red Planet' because ...</td>\n",
                            "    </tr>\n",
                            "    <tr>\n",
                            "      <th>2</th>\n",
                            "      <td>What is the largest ocean on Earth?</td>\n",
                            "      <td>[Atlantic Ocean, Indian Ocean, Arctic Ocean, P...</td>\n",
                            "      <td>[Pacific Ocean]</td>\n",
                            "      <td>The Pacific Ocean is the largest and deepest o...</td>\n",
                            "    </tr>\n",
                            "  </tbody>\n",
                            "</table>\n",
                            "</div>"
                        ],
                        "text/plain": [
                            "                                   question  \\\n",
                            "0            What is the capital of France?   \n",
                            "1  Which planet is known as the Red Planet?   \n",
                            "2       What is the largest ocean on Earth?   \n",
                            "\n",
                            "                                             options          answers  \\\n",
                            "0                    [Paris, London, Berlin, Madrid]          [Paris]   \n",
                            "1                     [Earth, Mars, Jupiter, Saturn]           [Mars]   \n",
                            "2  [Atlantic Ocean, Indian Ocean, Arctic Ocean, P...  [Pacific Ocean]   \n",
                            "\n",
                            "                                        explanations  \n",
                            "0  Paris is the capital and most populous city of...  \n",
                            "1  Mars is often called the 'Red Planet' because ...  \n",
                            "2  The Pacific Ocean is the largest and deepest o...  "
                        ]
                    },
                    "execution_count": 15,
                    "metadata": {},
                    "output_type": "execute_result"
                }
            ],
            "source": [
                "mc_questions.head(3)"
            ]
        },
        {
            "cell_type": "markdown",
            "metadata": {},
            "source": [
                "The question contains four columns, which is the expected format of the input type:\n",
                "The question contains 4 columns which is the expected format of the input type\n",
                "1. `question`: the quiz question you want to take\n",
                "2. `options`: the different options specified for the particular question, these could be one or more options\n",
                "3. `answers`: one or more acceptable answers for the specific question\n",
                "4. `explanations`: an explanation for the answer(s) chosen"
            ]
        },
        {
            "cell_type": "markdown",
            "metadata": {},
            "source": [
                "**Loading Short Answer Questions**\n",
                "\n",
                "You can also load short answer questions from a file. You need to specify the file path and question type(the question type should be `SHORT_ANSWER` if you want to load short answer questions)."
            ]
        },
        {
            "cell_type": "code",
            "execution_count": 10,
            "metadata": {},
            "outputs": [],
            "source": [
                "shrtq_file_path = \"../tests/test_data/short_answer.csv\"\n",
                "shrtq_questions = quiz.load_questions(input_file=shrtq_file_path, question_type=QuestionType.SHORT_ANSWER)"
            ]
        },
        {
            "cell_type": "markdown",
            "metadata": {},
            "source": [
                "The function loads the questions from the specified file and returns the questions as a DataFrame. Let's take a look at the first three short answer questions:"
            ]
        },
        {
            "cell_type": "code",
            "execution_count": 12,
            "metadata": {},
            "outputs": [
                {
                    "data": {
                        "text/html": [
                            "<div>\n",
                            "<style scoped>\n",
                            "    .dataframe tbody tr th:only-of-type {\n",
                            "        vertical-align: middle;\n",
                            "    }\n",
                            "\n",
                            "    .dataframe tbody tr th {\n",
                            "        vertical-align: top;\n",
                            "    }\n",
                            "\n",
                            "    .dataframe thead th {\n",
                            "        text-align: right;\n",
                            "    }\n",
                            "</style>\n",
                            "<table border=\"1\" class=\"dataframe\">\n",
                            "  <thead>\n",
                            "    <tr style=\"text-align: right;\">\n",
                            "      <th></th>\n",
                            "      <th>question</th>\n",
                            "      <th>answers</th>\n",
                            "      <th>explanations</th>\n",
                            "    </tr>\n",
                            "  </thead>\n",
                            "  <tbody>\n",
                            "    <tr>\n",
                            "      <th>0</th>\n",
                            "      <td>What continent has the largest population</td>\n",
                            "      <td>Asia</td>\n",
                            "      <td>Asia is the most populous continent with over ...</td>\n",
                            "    </tr>\n",
                            "    <tr>\n",
                            "      <th>1</th>\n",
                            "      <td>What is the capital of France</td>\n",
                            "      <td>Paris</td>\n",
                            "      <td>Paris is the capital and most populous city of...</td>\n",
                            "    </tr>\n",
                            "    <tr>\n",
                            "      <th>2</th>\n",
                            "      <td>What is the largest planet in our solar system</td>\n",
                            "      <td>Jupiter</td>\n",
                            "      <td>Jupiter is the largest planet in our solar sys...</td>\n",
                            "    </tr>\n",
                            "  </tbody>\n",
                            "</table>\n",
                            "</div>"
                        ],
                        "text/plain": [
                            "                                         question  answers  \\\n",
                            "0       What continent has the largest population     Asia   \n",
                            "1                   What is the capital of France    Paris   \n",
                            "2  What is the largest planet in our solar system  Jupiter   \n",
                            "\n",
                            "                                        explanations  \n",
                            "0  Asia is the most populous continent with over ...  \n",
                            "1  Paris is the capital and most populous city of...  \n",
                            "2  Jupiter is the largest planet in our solar sys...  "
                        ]
                    },
                    "execution_count": 12,
                    "metadata": {},
                    "output_type": "execute_result"
                }
            ],
            "source": [
                "shrtq_questions.head(3)"
            ]
        },
        {
            "cell_type": "markdown",
            "metadata": {},
            "source": [
                "### Load Questions From a DataFrame\n",
                "\n",
                "You can also load questions directly from a DataFrame. This is useful if you already have your questions in a DataFrame format."
            ]
        },
        {
            "cell_type": "code",
            "execution_count": null,
            "metadata": {},
            "outputs": [],
            "source": [
                "import pandas as pd\n",
                "\n",
                "# Example DataFrame\n",
                "data = {\n",
                "    'question': ['What is the capital of France?', 'What is 2 + 2?'],\n",
                "    'answers': ['Paris', '4'],\n",
                "    'options': [None, None],\n",
                "    'explanation': ['The capital of France is Paris.', '2 + 2 equals 4.']\n",
                "}\n",
                "df = pd.DataFrame(data)\n",
                "\n",
                "df_questions = quiz.load_questions(questions=df, question_type=QuestionType.SHORT_ANSWER)"
            ]
        },
        {
            "cell_type": "markdown",
            "metadata": {},
            "source": [
                "### Load Questions From a DataFrame\n",
                "\n",
                "You can also load questions directly from a DataFrame. This is useful if you already have your questions in a DataFrame format."
            ]
        },
        {
            "cell_type": "code",
            "execution_count": null,
            "metadata": {},
            "outputs": [],
            "source": [
                "import pandas as pd\n",
                "\n",
                "# Example DataFrame\n",
                "data = {\n",
                "    'question': ['What is the capital of France?', 'What is 2 + 2?'],\n",
                "    'answers': ['Paris', '4'],\n",
                "    'options': [None, None],\n",
                "    'explanation': ['The capital of France is Paris.', '2 + 2 equals 4.']\n",
                "}\n",
                "df = pd.DataFrame(data)\n",
                "\n",
                "df_questions = quiz.load_questions(questions=df, question_type=QuestionType.SHORT_ANSWER)"
            ]
        },
        {
            "cell_type": "markdown",
            "metadata": {},
            "source": [
                "The function loads the questions from the DataFrame and returns them. Let's view the loaded questions:"
            ]
        },
        {
            "cell_type": "code",
            "execution_count": null,
            "metadata": {},
            "outputs": [],
            "source": [
                "df_questions.head()"
            ]
        },
        {
            "cell_type": "markdown",
            "metadata": {},
            "source": [
                "## Taking a Quiz\n",
                "\n",
                "Once you have loaded your questions, you can take a quiz. The `Quizit` class provides methods to take both multiple-choice and short-answer quizzes."
            ]
        },
        {
            "cell_type": "markdown",
            "metadata": {},
            "source": [
                "### Taking a Multiple-Choice Quiz\n",
                "\n",
                "Let's take a multiple-choice quiz with 3 questions."
            ]
        },
        {
            "cell_type": "code",
            "execution_count": null,
            "metadata": {},
            "outputs": [],
            "source": [
                "result_mcq = quiz.take_multiple_choice(n=3, save_questions=False, save_score=False)\n",
                "print(result_mcq)"
            ]
        },
        {
            "cell_type": "markdown",
            "metadata": {},
            "source": [
                "### Taking a Short-Answer Quiz\n",
                "\n",
                "Now, let's take a short-answer quiz with 2 questions."
            ]
        },
        {
            "cell_type": "code",
            "execution_count": null,
            "metadata": {},
            "outputs": [],
            "source": [
                "result_shrtq = quiz.take_short_answer(n=2, save_questions=False, save_score=False)\n",
                "print(result_shrtq)"
            ]
        }
    ],
    "metadata": {
        "kernelspec": {
            "display_name": "test",
            "language": "python",
            "name": "python3"
        },
        "language_info": {
            "codemirror_mode": {
                "name": "ipython",
                "version": 3
            },
            "file_extension": ".py",
            "mimetype": "text/x-python",
            "name": "python",
            "nbconvert_exporter": "python",
            "pygments_lexer": "ipython3",
            "version": "3.11.11"
        }
    },
    "nbformat": 4,
    "nbformat_minor": 4
}
