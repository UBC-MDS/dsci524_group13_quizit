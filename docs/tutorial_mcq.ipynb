{
 "cells": [
  {
   "cell_type": "markdown",
   "metadata": {},
   "source": [
    "Before we start, lets create an instance of the `Quizit` class and load some multiple choice questions."
   ]
  },
  {
   "cell_type": "code",
   "execution_count": 3,
   "metadata": {},
   "outputs": [],
   "source": [
    "from dsci524_group13_quizit import Quizit, QuestionType\n",
    "quiz = Quizit()\n",
    "mcq_file_path = \"../tests/test_data/multiple_choice.csv\"\n",
    "mc_questions = quiz.load_questions(input_file=mcq_file_path, question_type=QuestionType.MULTIPLE_CHOICE, delimeter=\";\")"
   ]
  },
  {
   "cell_type": "markdown",
   "metadata": {},
   "source": [
    "## Taking a Multiple-Choice Quiz with `take_multiple_choice`"
   ]
  },
  {
   "cell_type": "markdown",
   "metadata": {},
   "source": [
    "Once you’ve loaded your questions using the load_questions method, you can use the take_multiple_choice method to take a quiz. "
   ]
  },
  {
   "cell_type": "markdown",
   "metadata": {},
   "source": [
    "\n",
    "The method takes four arguments:\n",
    "\n",
    "`n`: Specify how many questions you want in your quiz.\n",
    "\n",
    "`save_questions`: Choose whether to save logs of the questions you answered (\"correct\", \"incorrect\", \"all\", or False).\n",
    "\n",
    "`save_score`: Save your quiz score by setting this to True.\n",
    "\n",
    "`file_path`: Specify where your logs should be saved (optional)."
   ]
  },
  {
   "cell_type": "markdown",
   "metadata": {},
   "source": [
    "Now, let’s create a multiple-choice quiz with 3 questions."
   ]
  },
  {
   "cell_type": "code",
   "execution_count": 4,
   "metadata": {},
   "outputs": [
    {
     "name": "stdout",
     "output_type": "stream",
     "text": [
      "This quiz contains 3 questions.            \n",
      "To answer, type the corresponding letter of your choice (e.g. A).             \n",
      "If there are multiple answers, separate your choices with commas (e.g. A, B).\n",
      "==============================\n",
      "Question 1:\n",
      "Who wrote 'To Kill a Mockingbird'?\n",
      "A : Harper Lee\n",
      "B : Mark Twain\n",
      "C : Ernest Hemingway\n",
      "D : F. Scott Fitzgerald\n",
      "\n",
      "Your Answer: ['A']\n",
      "==============================\n",
      "Question 2:\n",
      "What are the primary colors?\n",
      "A : Red\n",
      "B : Blue\n",
      "C : Green\n",
      "D : Yellow\n",
      "\n",
      "Your Answer: ['B']\n",
      "==============================\n",
      "Question 3:\n",
      "What is the capital of France?\n",
      "A : Paris\n",
      "B : London\n",
      "C : Berlin\n",
      "D : Madrid\n",
      "\n",
      "Your Answer: ['B']\n",
      "============================== \n",
      "Quiz Results\n",
      "Score: 2.0/3 (66.67%)\n",
      "Time used: 2.92 seconds\n"
     ]
    }
   ],
   "source": [
    "results = quiz.take_multiple_choice(3)"
   ]
  },
  {
   "cell_type": "markdown",
   "metadata": {},
   "source": [
    "\n",
    "The function have randomly selected 3 questions from the loaded multiple choice questions.\n",
    "\n",
    "How about a quiz with 6 questions?\n",
    "\n"
   ]
  },
  {
   "cell_type": "code",
   "execution_count": 5,
   "metadata": {},
   "outputs": [
    {
     "name": "stdout",
     "output_type": "stream",
     "text": [
      "This quiz contains 6 questions.            \n",
      "To answer, type the corresponding letter of your choice (e.g. A).             \n",
      "If there are multiple answers, separate your choices with commas (e.g. A, B).\n",
      "==============================\n",
      "Question 1:\n",
      "What is the capital of France?\n",
      "A : Paris\n",
      "B : London\n",
      "C : Berlin\n",
      "D : Madrid\n",
      "\n",
      "Your Answer:                 \n",
      "Invalid input. Please select a valid option from the given choices.\n",
      "Your Answer: ['A']\n",
      "==============================\n",
      "Question 2:\n",
      "What are the primary colors?\n",
      "A : Red\n",
      "B : Blue\n",
      "C : Green\n",
      "D : Yellow\n",
      "\n",
      "Your Answer: ['A']\n",
      "==============================\n",
      "Question 3:\n",
      "What is the largest ocean on Earth?\n",
      "A : Atlantic Ocean\n",
      "B : Indian Ocean\n",
      "C : Arctic Ocean\n",
      "D : Pacific Ocean\n",
      "\n",
      "Your Answer: ['A']\n",
      "==============================\n",
      "Question 4:\n",
      "Who wrote 'To Kill a Mockingbird'?\n",
      "A : Harper Lee\n",
      "B : Mark Twain\n",
      "C : Ernest Hemingway\n",
      "D : F. Scott Fitzgerald\n",
      "\n",
      "Your Answer: ['A']\n",
      "==============================\n",
      "Question 5:\n",
      "Which of the following are programming languages?\n",
      "A : Python\n",
      "B : HTML\n",
      "C : Java\n",
      "D : CSS\n",
      "\n",
      "Your Answer: ['A']\n",
      "==============================\n",
      "Question 6:\n",
      "Which planet is known as the Red Planet?\n",
      "A : Earth\n",
      "B : Mars\n",
      "C : Jupiter\n",
      "D : Saturn\n",
      "\n",
      "Your Answer: aa                \n",
      "Invalid input. Please select a valid option from the given choices.\n",
      "Your Answer: ['A']\n",
      "============================== \n",
      "Quiz Results\n",
      "Score: 4.25/6 (70.83%)\n",
      "Time used: 7.61 seconds\n"
     ]
    }
   ],
   "source": [
    "results = quiz.take_multiple_choice(6)"
   ]
  },
  {
   "cell_type": "markdown",
   "metadata": {},
   "source": [
    "\n",
    "\n",
    "There is only 5 questions in the quiz!! \n",
    "\n",
    " If `n` is larger than the number of available questions, the method will create a quiz with all available questions (shuffled). In this case, you’ll get a 5-question quiz.\n",
    "\n"
   ]
  },
  {
   "cell_type": "markdown",
   "metadata": {},
   "source": [
    "### Accessing Your Quiz Results"
   ]
  },
  {
   "cell_type": "markdown",
   "metadata": {},
   "source": [
    "After finishing the quiz, the results object stores everything you need:\n",
    "\n",
    "`results.score`: Your total score for the quiz.\n",
    "`results.time_used`: How much time you took to complete the quiz.\n",
    "`results.question_summary`: A summary of all the questions asked.\n",
    "`results.question_type`: The type of question you just took (in this case, \"mcq\").\n",
    "\n",
    "You can access the score, time used, a summary of the questions and the type of question (\"mcq\") like this:"
   ]
  },
  {
   "cell_type": "code",
   "execution_count": 6,
   "metadata": {},
   "outputs": [
    {
     "data": {
      "text/plain": [
       "70.83"
      ]
     },
     "execution_count": 6,
     "metadata": {},
     "output_type": "execute_result"
    }
   ],
   "source": [
    "results.score  "
   ]
  },
  {
   "cell_type": "code",
   "execution_count": 7,
   "metadata": {},
   "outputs": [
    {
     "data": {
      "text/plain": [
       "7.61"
      ]
     },
     "execution_count": 7,
     "metadata": {},
     "output_type": "execute_result"
    }
   ],
   "source": [
    "results.time_used"
   ]
  },
  {
   "cell_type": "code",
   "execution_count": 8,
   "metadata": {},
   "outputs": [
    {
     "data": {
      "text/html": [
       "<div>\n",
       "<style scoped>\n",
       "    .dataframe tbody tr th:only-of-type {\n",
       "        vertical-align: middle;\n",
       "    }\n",
       "\n",
       "    .dataframe tbody tr th {\n",
       "        vertical-align: top;\n",
       "    }\n",
       "\n",
       "    .dataframe thead th {\n",
       "        text-align: right;\n",
       "    }\n",
       "</style>\n",
       "<table border=\"1\" class=\"dataframe\">\n",
       "  <thead>\n",
       "    <tr style=\"text-align: right;\">\n",
       "      <th></th>\n",
       "      <th>question</th>\n",
       "      <th>options</th>\n",
       "      <th>answers</th>\n",
       "      <th>explanations</th>\n",
       "      <th>response</th>\n",
       "      <th>score</th>\n",
       "    </tr>\n",
       "  </thead>\n",
       "  <tbody>\n",
       "    <tr>\n",
       "      <th>0</th>\n",
       "      <td>What is the capital of France?</td>\n",
       "      <td>[Paris, London, Berlin, Madrid]</td>\n",
       "      <td>[Paris]</td>\n",
       "      <td>Paris is the capital and most populous city of...</td>\n",
       "      <td>[A]</td>\n",
       "      <td>1.00</td>\n",
       "    </tr>\n",
       "    <tr>\n",
       "      <th>1</th>\n",
       "      <td>What are the primary colors?</td>\n",
       "      <td>[Red, Blue, Green, Yellow]</td>\n",
       "      <td>[Red, Blue, Yellow]</td>\n",
       "      <td>The primary colors are red, blue, and yellow. ...</td>\n",
       "      <td>[A]</td>\n",
       "      <td>0.50</td>\n",
       "    </tr>\n",
       "    <tr>\n",
       "      <th>2</th>\n",
       "      <td>What is the largest ocean on Earth?</td>\n",
       "      <td>[Atlantic Ocean, Indian Ocean, Arctic Ocean, P...</td>\n",
       "      <td>[Pacific Ocean]</td>\n",
       "      <td>The Pacific Ocean is the largest and deepest o...</td>\n",
       "      <td>[A]</td>\n",
       "      <td>0.50</td>\n",
       "    </tr>\n",
       "    <tr>\n",
       "      <th>3</th>\n",
       "      <td>Who wrote 'To Kill a Mockingbird'?</td>\n",
       "      <td>[Harper Lee, Mark Twain, Ernest Hemingway, F. ...</td>\n",
       "      <td>[Harper Lee]</td>\n",
       "      <td>Harper Lee is the author of the Pulitzer Prize...</td>\n",
       "      <td>[A]</td>\n",
       "      <td>1.00</td>\n",
       "    </tr>\n",
       "    <tr>\n",
       "      <th>4</th>\n",
       "      <td>Which of the following are programming languages?</td>\n",
       "      <td>[Python, HTML, Java, CSS]</td>\n",
       "      <td>[Python, Java]</td>\n",
       "      <td>Python and Java are programming languages, whi...</td>\n",
       "      <td>[A]</td>\n",
       "      <td>0.75</td>\n",
       "    </tr>\n",
       "    <tr>\n",
       "      <th>5</th>\n",
       "      <td>Which planet is known as the Red Planet?</td>\n",
       "      <td>[Earth, Mars, Jupiter, Saturn]</td>\n",
       "      <td>[Mars]</td>\n",
       "      <td>Mars is often called the 'Red Planet' because ...</td>\n",
       "      <td>[A]</td>\n",
       "      <td>0.50</td>\n",
       "    </tr>\n",
       "  </tbody>\n",
       "</table>\n",
       "</div>"
      ],
      "text/plain": [
       "                                            question  \\\n",
       "0                     What is the capital of France?   \n",
       "1                       What are the primary colors?   \n",
       "2                What is the largest ocean on Earth?   \n",
       "3                 Who wrote 'To Kill a Mockingbird'?   \n",
       "4  Which of the following are programming languages?   \n",
       "5           Which planet is known as the Red Planet?   \n",
       "\n",
       "                                             options              answers  \\\n",
       "0                    [Paris, London, Berlin, Madrid]              [Paris]   \n",
       "1                         [Red, Blue, Green, Yellow]  [Red, Blue, Yellow]   \n",
       "2  [Atlantic Ocean, Indian Ocean, Arctic Ocean, P...      [Pacific Ocean]   \n",
       "3  [Harper Lee, Mark Twain, Ernest Hemingway, F. ...         [Harper Lee]   \n",
       "4                          [Python, HTML, Java, CSS]       [Python, Java]   \n",
       "5                     [Earth, Mars, Jupiter, Saturn]               [Mars]   \n",
       "\n",
       "                                        explanations response  score  \n",
       "0  Paris is the capital and most populous city of...      [A]   1.00  \n",
       "1  The primary colors are red, blue, and yellow. ...      [A]   0.50  \n",
       "2  The Pacific Ocean is the largest and deepest o...      [A]   0.50  \n",
       "3  Harper Lee is the author of the Pulitzer Prize...      [A]   1.00  \n",
       "4  Python and Java are programming languages, whi...      [A]   0.75  \n",
       "5  Mars is often called the 'Red Planet' because ...      [A]   0.50  "
      ]
     },
     "execution_count": 8,
     "metadata": {},
     "output_type": "execute_result"
    }
   ],
   "source": [
    "results.question_summary"
   ]
  },
  {
   "cell_type": "code",
   "execution_count": 9,
   "metadata": {},
   "outputs": [
    {
     "data": {
      "text/plain": [
       "'mcq'"
      ]
     },
     "execution_count": 9,
     "metadata": {},
     "output_type": "execute_result"
    }
   ],
   "source": [
    "results.question_type"
   ]
  },
  {
   "cell_type": "markdown",
   "metadata": {},
   "source": [
    "### Saving Your Quiz Scores"
   ]
  },
  {
   "cell_type": "markdown",
   "metadata": {},
   "source": [
    "\n",
    "What if you want to keep a record of your quiz scores?\n",
    "\n",
    "You can use the `save_score` argument! \n"
   ]
  },
  {
   "cell_type": "code",
   "execution_count": 10,
   "metadata": {},
   "outputs": [
    {
     "name": "stdout",
     "output_type": "stream",
     "text": [
      "This quiz contains 3 questions.            \n",
      "To answer, type the corresponding letter of your choice (e.g. A).             \n",
      "If there are multiple answers, separate your choices with commas (e.g. A, B).\n",
      "==============================\n",
      "Question 1:\n",
      "What is the chemical symbol for water?\n",
      "A : H2O\n",
      "B : CO2\n",
      "C : NaCl\n",
      "D : O2\n",
      "\n",
      "Your Answer: ['A']\n",
      "==============================\n",
      "Question 2:\n",
      "Which planet is known as the Red Planet?\n",
      "A : Earth\n",
      "B : Mars\n",
      "C : Jupiter\n",
      "D : Saturn\n",
      "\n",
      "Your Answer: ['A']\n",
      "==============================\n",
      "Question 3:\n",
      "Who wrote 'To Kill a Mockingbird'?\n",
      "A : Harper Lee\n",
      "B : Mark Twain\n",
      "C : Ernest Hemingway\n",
      "D : F. Scott Fitzgerald\n",
      "\n",
      "Your Answer: ['A']\n",
      "Score Log Saved to \"results\"\n",
      "============================== \n",
      "Quiz Results\n",
      "Score: 2.5/3 (83.33%)\n",
      "Time used: 1.24 seconds\n"
     ]
    }
   ],
   "source": [
    "results = quiz.take_multiple_choice(3, save_score=True)"
   ]
  },
  {
   "cell_type": "markdown",
   "metadata": {},
   "source": [
    "This will create a folder called `results` in your current working directory and save your quiz score to a file named `score_mcq.txt`."
   ]
  },
  {
   "cell_type": "markdown",
   "metadata": {},
   "source": [
    "### Accessing Your Quiz Results"
   ]
  },
  {
   "cell_type": "markdown",
   "metadata": {},
   "source": [
    "Which questions did you answer correctly and incorrectly?\n",
    "\n",
    "Use the `save_question` argument to save a log of your incorrect and correct questions."
   ]
  },
  {
   "cell_type": "code",
   "execution_count": 11,
   "metadata": {},
   "outputs": [
    {
     "name": "stdout",
     "output_type": "stream",
     "text": [
      "This quiz contains 3 questions.            \n",
      "To answer, type the corresponding letter of your choice (e.g. A).             \n",
      "If there are multiple answers, separate your choices with commas (e.g. A, B).\n",
      "==============================\n",
      "Question 1:\n",
      "Who wrote 'To Kill a Mockingbird'?\n",
      "A : Harper Lee\n",
      "B : Mark Twain\n",
      "C : Ernest Hemingway\n",
      "D : F. Scott Fitzgerald\n",
      "\n",
      "Your Answer: ['A']\n",
      "==============================\n",
      "Question 2:\n",
      "What are the primary colors?\n",
      "A : Red\n",
      "B : Blue\n",
      "C : Green\n",
      "D : Yellow\n",
      "\n",
      "Your Answer: ['A']\n",
      "==============================\n",
      "Question 3:\n",
      "What is the capital of France?\n",
      "A : Paris\n",
      "B : London\n",
      "C : Berlin\n",
      "D : Madrid\n",
      "\n",
      "Your Answer: ['A']\n",
      "Score Log Saved to \"results\"\n",
      "Question Log Saved to \"results\"\n",
      "============================== \n",
      "Quiz Results\n",
      "Score: 2.5/3 (83.33%)\n",
      "Time used: 7.17 seconds\n"
     ]
    }
   ],
   "source": [
    "results = quiz.take_multiple_choice(3, save_questions=\"all\", save_score=True)"
   ]
  },
  {
   "cell_type": "markdown",
   "metadata": {},
   "source": [
    "Here’s what you can do with `save_questions`:\n",
    "\n",
    "- Set it to `\"correct\"` to save only the correctly answered questions (`correct_mcq.txt`).\n",
    "- Set it to `\"incorrect\"` to save only the incorrectly answered ones (`incorrect_mcq.txt`).\n",
    "- Use `\"all\"` to save both correct and incorrect questions in separate files.\n",
    "- Leave it as `False` (default) to skip saving questions.\n",
    "\n",
    "By default, these files will be saved in the `results` folder."
   ]
  },
  {
   "cell_type": "markdown",
   "metadata": {},
   "source": [
    "### Saving Logs to a Custom Location"
   ]
  },
  {
   "cell_type": "markdown",
   "metadata": {},
   "source": [
    "If you want your logs saved somewhere else, you can using the `file_path` argument to specify where you want your records to go.\n",
    "\n",
    "For example, if you want your files to save to the `\"quiz_result\"` directory in your current directory:\n"
   ]
  },
  {
   "cell_type": "code",
   "execution_count": 12,
   "metadata": {},
   "outputs": [
    {
     "name": "stdout",
     "output_type": "stream",
     "text": [
      "This quiz contains 3 questions.            \n",
      "To answer, type the corresponding letter of your choice (e.g. A).             \n",
      "If there are multiple answers, separate your choices with commas (e.g. A, B).\n",
      "==============================\n",
      "Question 1:\n",
      "Who wrote 'To Kill a Mockingbird'?\n",
      "A : Harper Lee\n",
      "B : Mark Twain\n",
      "C : Ernest Hemingway\n",
      "D : F. Scott Fitzgerald\n",
      "\n",
      "Your Answer: ['A']\n",
      "==============================\n",
      "Question 2:\n",
      "Which of the following are programming languages?\n",
      "A : Python\n",
      "B : HTML\n",
      "C : Java\n",
      "D : CSS\n",
      "\n",
      "Your Answer: ['A']\n",
      "==============================\n",
      "Question 3:\n",
      "What is the largest ocean on Earth?\n",
      "A : Atlantic Ocean\n",
      "B : Indian Ocean\n",
      "C : Arctic Ocean\n",
      "D : Pacific Ocean\n",
      "\n",
      "Your Answer: ['B']\n",
      "Score Log Saved to \"quiz_result\"\n",
      "Question Log Saved to \"quiz_result\"\n",
      "============================== \n",
      "Quiz Results\n",
      "Score: 2.25/3 (75.0%)\n",
      "Time used: 18.15 seconds\n"
     ]
    }
   ],
   "source": [
    "results = quiz.take_multiple_choice(3, save_score=True, save_questions=\"all\", file_path=\"quiz_result\")"
   ]
  },
  {
   "cell_type": "markdown",
   "metadata": {},
   "source": [
    "Now, your logs are saved to the `\"quiz_result\"` directory. If the folder doesn’t exist, it will be created automatically.\n"
   ]
  },
  {
   "cell_type": "markdown",
   "metadata": {},
   "source": [
    "Now lets take a look at the files created."
   ]
  },
  {
   "cell_type": "code",
   "execution_count": 13,
   "metadata": {},
   "outputs": [
    {
     "name": "stdout",
     "output_type": "stream",
     "text": [
      "Date                      | Score       |Time Used (s)\n",
      "Sun Jan 26 10:06:23 2025  | 75.0%      | 18.15\n",
      "\n"
     ]
    }
   ],
   "source": [
    "file1 = open('quiz_result/score_mcq.txt') \n",
    "print(file1.read())"
   ]
  },
  {
   "cell_type": "code",
   "execution_count": 14,
   "metadata": {},
   "outputs": [
    {
     "name": "stdout",
     "output_type": "stream",
     "text": [
      "Question \n",
      "Which of the following are programming languages?\n",
      "A : Python\n",
      "B : HTML\n",
      "C : Java\n",
      "D : CSS\n",
      "Your Answer: ['A']\n",
      "Correct Answer: ['Python', 'Java']\n",
      "Explanations: Python and Java are programming languages, while HTML and CSS are markup and style sheet languages, respectively.\n",
      "==============================\n",
      "Question \n",
      "What is the largest ocean on Earth?\n",
      "A : Atlantic Ocean\n",
      "B : Indian Ocean\n",
      "C : Arctic Ocean\n",
      "D : Pacific Ocean\n",
      "Your Answer: ['B']\n",
      "Correct Answer: ['Pacific Ocean']\n",
      "Explanations: The Pacific Ocean is the largest and deepest of Earth's oceanic divisions.\n",
      "==============================\n",
      "\n"
     ]
    }
   ],
   "source": [
    "file2 =  open('quiz_result/incorrect_mcq.txt')\n",
    "print(file2.read())"
   ]
  },
  {
   "cell_type": "code",
   "execution_count": 15,
   "metadata": {},
   "outputs": [
    {
     "name": "stdout",
     "output_type": "stream",
     "text": [
      "Question \n",
      "Who wrote 'To Kill a Mockingbird'?\n",
      "A : Harper Lee\n",
      "B : Mark Twain\n",
      "C : Ernest Hemingway\n",
      "D : F. Scott Fitzgerald\n",
      "Your Answer: ['A']\n",
      "Correct Answer: ['Harper Lee']\n",
      "Explanations: Harper Lee is the author of the Pulitzer Prize-winning novel 'To Kill a Mockingbird'.\n",
      "==============================\n",
      "\n"
     ]
    }
   ],
   "source": [
    "\n",
    "file3 = open('quiz_result/correct_mcq.txt')\n",
    "print(file3.read())"
   ]
  },
  {
   "cell_type": "markdown",
   "metadata": {},
   "source": [
    "And there you have it! Your scores and logs are now saved and accessible for later use."
   ]
  }
 ],
 "metadata": {
  "kernelspec": {
   "display_name": "poetry",
   "language": "python",
   "name": "python3"
  },
  "language_info": {
   "codemirror_mode": {
    "name": "ipython",
    "version": 3
   },
   "file_extension": ".py",
   "mimetype": "text/x-python",
   "name": "python",
   "nbconvert_exporter": "python",
   "pygments_lexer": "ipython3",
   "version": "3.13.1"
  }
 },
 "nbformat": 4,
 "nbformat_minor": 2
}
