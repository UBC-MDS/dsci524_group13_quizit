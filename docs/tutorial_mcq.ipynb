{
 "cells": [
  {
   "cell_type": "markdown",
   "metadata": {},
   "source": [
    "# Welcome to the Quizit package documentation!\n",
    "This package provides a comprehensive set of tools to create, manage, and take quizzes. Whether you're preparing for an exam, testing your knowledge, or simply challenging yourself, Quizit makes the process seamless and efficient. In this guide, we’ll walk you through its features with practical examples to demonstrate its capabilities."
   ]
  },
  {
   "cell_type": "markdown",
   "metadata": {},
   "source": [
    "## Taking a Multiple-Choice Quiz with `take_multiple_choice`"
   ]
  },
  {
   "cell_type": "markdown",
   "metadata": {},
   "source": [
    "Once you’ve loaded your questions using the load_questions method, you can use the take_multiple_choice method to take a quiz. "
   ]
  },
  {
   "cell_type": "markdown",
   "metadata": {},
   "source": [
    "\n",
    "The method takes four arguments:\n",
    "\n",
    "`n`: Specify how many questions you want in your quiz.\n",
    "\n",
    "`save_questions`: Choose whether to save logs of the questions you answered (\"correct\", \"incorrect\", \"all\", or False).\n",
    "\n",
    "`save_score`: Save your quiz score by setting this to True.\n",
    "\n",
    "`file_path`: Specify where your logs should be saved (optional)."
   ]
  },
  {
   "cell_type": "markdown",
   "metadata": {},
   "source": [
    "Now, let’s create a multiple-choice quiz with 3 questions."
   ]
  },
  {
   "cell_type": "code",
   "execution_count": null,
   "metadata": {},
   "outputs": [],
   "source": [
    "results = test.take_multiple_choice(3)"
   ]
  },
  {
   "cell_type": "markdown",
   "metadata": {},
   "source": [
    "\n",
    "The function have randomly selected 3 questions from the loaded multiple choice questions.\n",
    "\n",
    "How about a quiz with 6 questions?\n",
    "\n"
   ]
  },
  {
   "cell_type": "code",
   "execution_count": null,
   "metadata": {},
   "outputs": [
    {
     "name": "stdout",
     "output_type": "stream",
     "text": [
      "This quiz contains 5 questions.            \n",
      "To answer, type the corresponding letter of your choice (e.g. A).             \n",
      "If there are multiple answers, separate your choices with commas (e.g. A, B).\n",
      "==============================\n",
      "Question 1:\n",
      "Question 3?\n",
      "A : option1\n",
      "B : option2\n",
      "\n",
      "Your Answer: ['A']\n",
      "==============================\n",
      "Question 2:\n",
      "Question 1?\n",
      "A : option1\n",
      "B : option2\n",
      "C : option3\n",
      "D : option4\n",
      "\n",
      "Your Answer: ['B']\n",
      "==============================\n",
      "Question 3:\n",
      "Question 5?\n",
      "A : option1\n",
      "B : option2\n",
      "C : option3\n",
      "\n",
      "Your Answer: ['C']\n",
      "==============================\n",
      "Question 4:\n",
      "Question 2?\n",
      "A : option1\n",
      "B : option2\n",
      "C : option3\n",
      "D : option4\n",
      "E : option5\n",
      "\n",
      "Your Answer: ['D']\n",
      "==============================\n",
      "Question 5:\n",
      "Question 4?\n",
      "A : option1\n",
      "B : option2\n",
      "C : option3\n",
      "D : option4\n",
      "\n",
      "Your Answer: ['D']\n",
      "============================== \n",
      "Quiz Results\n",
      "Score: 2.62/5 (52.4%)\n",
      "Time used: 2.01 seconds\n"
     ]
    }
   ],
   "source": [
    "results = test.take_multiple_choice(6)"
   ]
  },
  {
   "cell_type": "markdown",
   "metadata": {},
   "source": [
    "\n",
    "\n",
    "There is only 5 questions in the quiz!! \n",
    "\n",
    " If `n` is larger than the number of available questions, the method will create a quiz with all available questions (shuffled). In this case, you’ll get a 5-question quiz.\n",
    "\n"
   ]
  },
  {
   "cell_type": "markdown",
   "metadata": {},
   "source": [
    "### Accessing Your Quiz Results"
   ]
  },
  {
   "cell_type": "markdown",
   "metadata": {},
   "source": [
    "After finishing the quiz, the results object stores everything you need:\n",
    "\n",
    "`results.score`: Your total score for the quiz.\n",
    "`results.time_used`: How much time you took to complete the quiz.\n",
    "`results.question_summary`: A summary of all the questions asked.\n",
    "`results.question_type`: The type of question you just took (in this case, \"mcq\").\n",
    "\n",
    "You can access the score, time used, a summary of the questions and the type of question (\"mcq\") like this:"
   ]
  },
  {
   "cell_type": "code",
   "execution_count": null,
   "metadata": {},
   "outputs": [
    {
     "data": {
      "text/plain": [
       "52.4"
      ]
     },
     "metadata": {},
     "output_type": "display_data"
    }
   ],
   "source": [
    "results.score  "
   ]
  },
  {
   "cell_type": "code",
   "execution_count": null,
   "metadata": {},
   "outputs": [
    {
     "data": {
      "text/plain": [
       "2.01"
      ]
     },
     "metadata": {},
     "output_type": "display_data"
    }
   ],
   "source": [
    "results.time_used"
   ]
  },
  {
   "cell_type": "code",
   "execution_count": null,
   "metadata": {},
   "outputs": [
    {
     "data": {
      "text/html": [
       "<div>\n",
       "<style scoped>\n",
       "    .dataframe tbody tr th:only-of-type {\n",
       "        vertical-align: middle;\n",
       "    }\n",
       "\n",
       "    .dataframe tbody tr th {\n",
       "        vertical-align: top;\n",
       "    }\n",
       "\n",
       "    .dataframe thead th {\n",
       "        text-align: right;\n",
       "    }\n",
       "</style>\n",
       "<table border=\"1\" class=\"dataframe\">\n",
       "  <thead>\n",
       "    <tr style=\"text-align: right;\">\n",
       "      <th></th>\n",
       "      <th>question</th>\n",
       "      <th>options</th>\n",
       "      <th>answers</th>\n",
       "      <th>explanations</th>\n",
       "      <th>response</th>\n",
       "      <th>score</th>\n",
       "    </tr>\n",
       "  </thead>\n",
       "  <tbody>\n",
       "    <tr>\n",
       "      <th>0</th>\n",
       "      <td>Question 3?</td>\n",
       "      <td>[option1, option2]</td>\n",
       "      <td>[option1]</td>\n",
       "      <td>explanation3</td>\n",
       "      <td>[A]</td>\n",
       "      <td>1.00</td>\n",
       "    </tr>\n",
       "    <tr>\n",
       "      <th>1</th>\n",
       "      <td>Question 1?</td>\n",
       "      <td>[option1, option2, option3, option4]</td>\n",
       "      <td>[option1]</td>\n",
       "      <td>explanation1</td>\n",
       "      <td>[B]</td>\n",
       "      <td>0.50</td>\n",
       "    </tr>\n",
       "    <tr>\n",
       "      <th>2</th>\n",
       "      <td>Question 5?</td>\n",
       "      <td>[option1, option2, option3]</td>\n",
       "      <td>[option3, option2]</td>\n",
       "      <td>explanation5</td>\n",
       "      <td>[C]</td>\n",
       "      <td>0.67</td>\n",
       "    </tr>\n",
       "    <tr>\n",
       "      <th>3</th>\n",
       "      <td>Question 2?</td>\n",
       "      <td>[option1, option2, option3, option4, option5]</td>\n",
       "      <td>[option1, option2, option3]</td>\n",
       "      <td>explanation2</td>\n",
       "      <td>[D]</td>\n",
       "      <td>0.20</td>\n",
       "    </tr>\n",
       "    <tr>\n",
       "      <th>4</th>\n",
       "      <td>Question 4?</td>\n",
       "      <td>[option1, option2, option3, option4]</td>\n",
       "      <td>[option1, option2]</td>\n",
       "      <td>explanation4</td>\n",
       "      <td>[D]</td>\n",
       "      <td>0.25</td>\n",
       "    </tr>\n",
       "  </tbody>\n",
       "</table>\n",
       "</div>"
      ],
      "text/plain": [
       "      question                                        options  \\\n",
       "0  Question 3?                             [option1, option2]   \n",
       "1  Question 1?           [option1, option2, option3, option4]   \n",
       "2  Question 5?                    [option1, option2, option3]   \n",
       "3  Question 2?  [option1, option2, option3, option4, option5]   \n",
       "4  Question 4?           [option1, option2, option3, option4]   \n",
       "\n",
       "                       answers  explanations response  score  \n",
       "0                    [option1]  explanation3      [A]   1.00  \n",
       "1                    [option1]  explanation1      [B]   0.50  \n",
       "2           [option3, option2]  explanation5      [C]   0.67  \n",
       "3  [option1, option2, option3]  explanation2      [D]   0.20  \n",
       "4           [option1, option2]  explanation4      [D]   0.25  "
      ]
     },
     "metadata": {},
     "output_type": "display_data"
    }
   ],
   "source": [
    "results.question_summary"
   ]
  },
  {
   "cell_type": "code",
   "execution_count": null,
   "metadata": {},
   "outputs": [
    {
     "data": {
      "text/plain": [
       "'mcq'"
      ]
     },
     "metadata": {},
     "output_type": "display_data"
    }
   ],
   "source": [
    "results.question_type"
   ]
  },
  {
   "cell_type": "markdown",
   "metadata": {},
   "source": [
    "### Saving Your Quiz Scores"
   ]
  },
  {
   "cell_type": "markdown",
   "metadata": {},
   "source": [
    "\n",
    "What if you want to keep a record of your quiz scores?\n",
    "\n",
    "You can use the `save_score` argument! \n"
   ]
  },
  {
   "cell_type": "code",
   "execution_count": null,
   "metadata": {},
   "outputs": [
    {
     "name": "stdout",
     "output_type": "stream",
     "text": [
      "This quiz contains 3 questions.            \n",
      "To answer, type the corresponding letter of your choice (e.g. A).             \n",
      "If there are multiple answers, separate your choices with commas (e.g. A, B).\n",
      "==============================\n",
      "Question 1:\n",
      "Question 5?\n",
      "A : option1\n",
      "B : option2\n",
      "C : option3\n",
      "\n",
      "Your Answer: ['A']\n",
      "==============================\n",
      "Question 2:\n",
      "Question 1?\n",
      "A : option1\n",
      "B : option2\n",
      "C : option3\n",
      "D : option4\n",
      "\n",
      "Your Answer: ['A']\n",
      "==============================\n",
      "Question 3:\n",
      "Question 4?\n",
      "A : option1\n",
      "B : option2\n",
      "C : option3\n",
      "D : option4\n",
      "\n",
      "Your Answer: ['A']\n",
      "Score Log Saved: results/score_mcq.txt\n",
      "============================== \n",
      "Quiz Results\n",
      "Score: 1.75/3 (58.33%)\n",
      "Time used: 1.43 seconds\n"
     ]
    }
   ],
   "source": [
    "results = test.take_multiple_choice(3, save_score=True)"
   ]
  },
  {
   "cell_type": "markdown",
   "metadata": {},
   "source": [
    "This will create a folder called `results` in your current working directory and save your quiz score to a file named `score_mcq.txt`."
   ]
  },
  {
   "cell_type": "markdown",
   "metadata": {},
   "source": [
    "### Accessing Your Quiz Results"
   ]
  },
  {
   "cell_type": "markdown",
   "metadata": {},
   "source": [
    "Which questions did you answer correctly and incorrectly?\n",
    "\n",
    "Use the `save_question` argument to save a log of your incorrect and correct questions."
   ]
  },
  {
   "cell_type": "code",
   "execution_count": null,
   "metadata": {},
   "outputs": [],
   "source": [
    "results = test.take_multiple_choice(3, save_questions=\"all\", save_score=True)"
   ]
  },
  {
   "cell_type": "markdown",
   "metadata": {},
   "source": [
    "Here’s what you can do with `save_questions`:\n",
    "\n",
    "- Set it to `\"correct\"` to save only the correctly answered questions (`correct_mcq.txt`).\n",
    "- Set it to `\"incorrect\"` to save only the incorrectly answered ones (`incorrect_mcq.txt`).\n",
    "- Use `\"all\"` to save both correct and incorrect questions in separate files.\n",
    "- Leave it as `False` (default) to skip saving questions.\n",
    "\n",
    "By default, these files will be saved in the `results` folder."
   ]
  },
  {
   "cell_type": "markdown",
   "metadata": {},
   "source": [
    "### Saving Logs to a Custom Location"
   ]
  },
  {
   "cell_type": "markdown",
   "metadata": {},
   "source": [
    "If you want your logs saved somewhere else, you can using the `file_path` argument to specify where you want your records to go.\n",
    "\n",
    "For example, if you want your files to save to the `\"quiz_result\"` directory in your current directory:\n"
   ]
  },
  {
   "cell_type": "code",
   "execution_count": null,
   "metadata": {},
   "outputs": [
    {
     "name": "stdout",
     "output_type": "stream",
     "text": [
      "This quiz contains 3 questions.            \n",
      "To answer, type the corresponding letter of your choice (e.g. A).             \n",
      "If there are multiple answers, separate your choices with commas (e.g. A, B).\n",
      "==============================\n",
      "Question 1:\n",
      "Question 1?\n",
      "A : option1\n",
      "B : option2\n",
      "C : option3\n",
      "D : option4\n",
      "\n",
      "Your Answer: ['A']\n",
      "==============================\n",
      "Question 2:\n",
      "Question 4?\n",
      "A : option1\n",
      "B : option2\n",
      "C : option3\n",
      "D : option4\n",
      "\n",
      "Your Answer: ['B']\n",
      "==============================\n",
      "Question 3:\n",
      "Question 3?\n",
      "A : option1\n",
      "B : option2\n",
      "\n",
      "Your Answer: ['A']\n",
      "Score Log Saved: quiz_result/score_mcq.txt\n",
      "Question Log Saved: incorrect_mcq.txt\n",
      "Question Log Saved: correct_mcq.txt\n",
      "============================== \n",
      "Quiz Results\n",
      "Score: 2.75/3 (91.67%)\n",
      "Time used: 11.45 seconds\n"
     ]
    }
   ],
   "source": [
    "results = test.take_multiple_choice(3, save_score=True, save_questions=\"all\", file_path=\"quiz_result\")"
   ]
  },
  {
   "cell_type": "markdown",
   "metadata": {},
   "source": [
    "Now, your logs are saved to the `\"quiz_result\"` directory. If the folder doesn’t exist, it will be created automatically.\n"
   ]
  },
  {
   "cell_type": "markdown",
   "metadata": {},
   "source": [
    "Now lets take a look at the files created."
   ]
  },
  {
   "cell_type": "code",
   "execution_count": null,
   "metadata": {},
   "outputs": [
    {
     "name": "stdout",
     "output_type": "stream",
     "text": [
      "Date                      | Score       |Time Used (s)\n",
      "Thu Jan 23 00:05:09 2025  | 91.67%      | 11.45\n",
      "\n"
     ]
    }
   ],
   "source": [
    "file1 = open('quiz_result/score_mcq.txt') \n",
    "print(file1.read())"
   ]
  },
  {
   "cell_type": "code",
   "execution_count": null,
   "metadata": {},
   "outputs": [
    {
     "name": "stdout",
     "output_type": "stream",
     "text": [
      "Question \n",
      "Question 4?\n",
      "A : option1\n",
      "B : option2\n",
      "C : option3\n",
      "D : option4\n",
      "Your Answer: ['B']\n",
      "Correct Answer: ['option1', 'option2']\n",
      "Explanations: explanation4\n",
      "==============================\n",
      "\n"
     ]
    }
   ],
   "source": [
    "file2 =  open('quiz_result/incorrect_mcq.txt')\n",
    "print(file2.read())"
   ]
  },
  {
   "cell_type": "code",
   "execution_count": null,
   "metadata": {},
   "outputs": [
    {
     "name": "stdout",
     "output_type": "stream",
     "text": [
      "Question \n",
      "Question 1?\n",
      "A : option1\n",
      "B : option2\n",
      "C : option3\n",
      "D : option4\n",
      "Your Answer: ['A']\n",
      "Correct Answer: ['option1']\n",
      "Explanations: explanation1\n",
      "==============================\n",
      "Question \n",
      "Question 3?\n",
      "A : option1\n",
      "B : option2\n",
      "Your Answer: ['A']\n",
      "Correct Answer: ['option1']\n",
      "Explanations: explanation3\n",
      "==============================\n",
      "\n"
     ]
    }
   ],
   "source": [
    "\n",
    "file3 = open('quiz_result/correct_mcq.txt')\n",
    "print(file3.read())"
   ]
  },
  {
   "cell_type": "markdown",
   "metadata": {},
   "source": [
    "And there you have it! Your scores and logs are now saved and accessible for later use."
   ]
  }
 ],
 "metadata": {
  "language_info": {
   "name": "python"
  }
 },
 "nbformat": 4,
 "nbformat_minor": 2
}
