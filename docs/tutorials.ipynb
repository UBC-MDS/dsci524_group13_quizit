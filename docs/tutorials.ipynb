{
    "cells": [
        {
            "cell_type": "markdown",
            "metadata": {},
            "source": [
                "# Welcome to the Quizit package documentation!"
            ]
        },
        {
            "cell_type": "markdown",
            "metadata": {},
            "source": [
                "Jessica, Uche, and Mavis are preparing for an upcoming exam in their Master of Data Science degree. They discover a set of multiple-choice and short-answer questions on the internet that cover a variety of areas they expect to be tested on, including machine learning algorithms, data manipulation, and statistics. They want to periodically test themselves in order to assess their knowledge and discover areas for improvement. After completing the quiz, the package shows them their results. It displays their scores and lists the questions they answered correctly and incorrectly. The results are saved to a text file, which Jessica, Uche, and Mavis can review to track their performance over time and identify any topics they need to revisit."
            ]
        },
        {
            "cell_type": "markdown",
            "metadata": {},
            "source": [
                "This package provides a comprehensive set of tools to create, manage, and take quizzes. Whether you're preparing for an exam, testing your knowledge, or simply challenging yourself, Quizit makes the process seamless and efficient. In this guide, we’ll walk you through its features with practical examples to demonstrate its capabilities."
            ]
        },
        {
            "cell_type": "markdown",
            "metadata": {},
            "source": [
                "Let's dive into how you can use this package to create and take quizzes."
            ]
        },
        {
            "cell_type": "markdown",
            "metadata": {},
            "source": [
                "You can view the current package version below"
            ]
        },
        {
            "cell_type": "code",
            "execution_count": 1,
            "metadata": {},
            "outputs": [
                {
                    "name": "stdout",
                    "output_type": "stream",
                    "text": [
                        "0.1.0\n"
                    ]
                }
            ],
            "source": [
                "import dsci524_group13_quizit\n",
                "print(dsci524_group13_quizit.__version__)"
            ]
        },
        {
            "cell_type": "markdown",
            "metadata": {},
            "source": [
                "To get started you need to [Load a Question](./tutorial_load_questions.ipynb)"
            ]
        },
        {
            "cell_type": "markdown",
            "metadata": {},
            "source": [
                "## Conclusion\n",
                "\n",
                "Hey there 👋 \n",
                "\n",
                "Thank you for checking out the `dsci524_group13_quizit` package! We hope you find it useful for creating, and taking quizzes.  \n",
                "If you have any questions or feedback, please feel free to reach out to us. 📝\n",
                "\n",
                "📧 [@MavisWong295](mailto:hwong52@student.ubc.ca), [@shangjiayuu](mailto:jessicayujiajia@gmail.com),\n",
                "[@cs-uche](mailto:schisom@student.ubc.ca)"
            ]
        }
    ],
    "metadata": {
        "kernelspec": {
            "display_name": "poetry",
            "language": "python",
            "name": "python3"
        },
        "language_info": {
            "codemirror_mode": {
                "name": "ipython",
                "version": 3
            },
            "file_extension": ".py",
            "mimetype": "text/x-python",
            "name": "python",
            "nbconvert_exporter": "python",
            "pygments_lexer": "ipython3",
            "version": "3.13.1"
        }
    },
    "nbformat": 4,
    "nbformat_minor": 4
}
