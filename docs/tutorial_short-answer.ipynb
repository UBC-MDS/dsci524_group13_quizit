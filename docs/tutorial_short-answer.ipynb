{
 "cells": [
  {
   "cell_type": "markdown",
   "metadata": {},
   "source": [
    "## Let's take some short-answer questions😄"
   ]
  },
  {
   "cell_type": "markdown",
   "metadata": {},
   "source": [
    "### ▶️Before you start working on the questions, you need to do some preparation!\n",
    "#### 1. Importing Required Libraries and Setting the path\n",
    "   - You need to import the necessary libraries. pandas is used to handle data (such as loading questions and answers), time is used to track the time, and os and sys are used for path management.\n",
    "   - If you're running your code in Jupyter or another editor, make sure you've added the project folder path to the system path, so Python can find the modules you need."
   ]
  },
  {
   "cell_type": "code",
   "execution_count": 1,
   "metadata": {},
   "outputs": [],
   "source": [
    "import pandas as pd\n",
    "import time\n",
    "import sys\n",
    "import os\n",
    "sys.path.append(os.path.join(os.getcwd(), '..'))\n",
    "\n",
    "from dsci524_group13_quizit.quizit import Quizit\n",
    "from dsci524_group13_quizit.utils import (score_log, question_log, QuizResult)\n"
   ]
  },
  {
   "cell_type": "markdown",
   "metadata": {},
   "source": [
    "#### 2. Loading the Questions you previously update.\n",
    "- After the necessary libraries are imported, you need to load the short-answer question data from the CSV file. You should find your short_answer.csv file that contains questions and answers.\n",
    "- ❌If the file path is incorrect, Python will throw a FileNotFoundError. Make sure the file path is relative to the script location, or provide an absolute path.\n",
    "- ❌If the CSV format is incorrect (missing required columns like question or answers), Python will raise a ValueError. Ensure the CSV has the correct format."
   ]
  },
  {
   "cell_type": "code",
   "execution_count": 2,
   "metadata": {},
   "outputs": [
    {
     "name": "stdout",
     "output_type": "stream",
     "text": [
      "                                         question              answers  \\\n",
      "0       What continent has the largest population                 Asia   \n",
      "1                   What is the capital of France                Paris   \n",
      "2  What is the largest planet in our solar system              Jupiter   \n",
      "3           What is the chemical symbol for water                  H2O   \n",
      "4                    Who wrote 'Romeo and Juliet'  William Shakespeare   \n",
      "\n",
      "                                        explanations  \n",
      "0  Asia is the most populous continent with over ...  \n",
      "1  Paris is the capital and most populous city of...  \n",
      "2  Jupiter is the largest planet in our solar sys...  \n",
      "3  H2O is the chemical formula for water, consist...  \n",
      "4  William Shakespeare was an English playwright ...  \n"
     ]
    }
   ],
   "source": [
    "file_path = '/Users/shengjiayu/Desktop/dsci524_group13_quizit/tests/test_data/short_answer.csv'\n",
    "short_answer_data = pd.read_csv(file_path)\n",
    "print(short_answer_data.head())"
   ]
  },
  {
   "cell_type": "markdown",
   "metadata": {},
   "source": [
    "#### 3. Creating the Quizit Instance\n",
    "- Now that the question data is successfully loaded, create an instance of the Quizit class and load the question data into it.\n",
    "- If the short_answer_data was not loaded correctly😢, quiz.shrtq will be None, leading to a ValueError when you try to run the quiz."
   ]
  },
  {
   "cell_type": "code",
   "execution_count": 3,
   "metadata": {},
   "outputs": [],
   "source": [
    "quiz = Quizit()\n",
    "quiz.shrtq = short_answer_data"
   ]
  },
  {
   "cell_type": "markdown",
   "metadata": {},
   "source": [
    "### ⏸️ Ready to Run the Short Answer Quiz\n",
    "Now you can run the quiz using the take_short_answer() method. This method allows you to specify how many questions to ask, whether to save the questions and scores, and where to save the results.\n",
    "- 3 specifies that the quiz will present 3 questions.\n",
    "- save_questions=True means the questions (both correct and incorrect) will be saved to log files.\n",
    "- save_score=True means the final score and the time taken will be saved to a score.txt file.\n",
    "- file_path=\"results/\" specifies the directory where the logs will be saved."
   ]
  },
  {
   "cell_type": "code",
   "execution_count": 4,
   "metadata": {},
   "outputs": [
    {
     "name": "stdout",
     "output_type": "stream",
     "text": [
      "This quiz contains 1 questions.\n",
      "Question 1: What is the capital of Japan\n",
      "Hint: Your answer must be one word.\n"
     ]
    },
    {
     "name": "stdin",
     "output_type": "stream",
     "text": [
      "Enter Answer:  Tokyo\n"
     ]
    },
    {
     "name": "stdout",
     "output_type": "stream",
     "text": [
      "Score Log Saved to \"results/\"\n",
      "Question Log Saved to \"results/\"\n",
      "============================== \n",
      "Quiz Results\n",
      "Score: 1/1 (100.0%)\n",
      "Time used: 34.63 seconds\n"
     ]
    }
   ],
   "source": [
    "result = quiz.take_short_answer(1, save_questions=True, save_score=True, file_path=\"results/\")"
   ]
  },
  {
   "cell_type": "markdown",
   "metadata": {},
   "source": [
    "##### 🎉 Congratulations! You finished the quiz with 100% using only 34.63 seconds yayyy!!"
   ]
  },
  {
   "cell_type": "markdown",
   "metadata": {},
   "source": [
    "### Here's some errors you might face 👇\n",
    "#### IndexError：Number of Questions Exceeds Available Data\n",
    "- If you try to ask more questions than are available in data set, an Error will occur, so make sure that the number of questions you specify (n) does not exceed the number of questions in the loaded dataset👌."
   ]
  },
  {
   "cell_type": "code",
   "execution_count": 5,
   "metadata": {},
   "outputs": [
    {
     "ename": "ValueError",
     "evalue": "Not enough questions available. Only 11 questions loaded.",
     "output_type": "error",
     "traceback": [
      "\u001b[0;31m---------------------------------------------------------------------------\u001b[0m",
      "\u001b[0;31mValueError\u001b[0m                                Traceback (most recent call last)",
      "Cell \u001b[0;32mIn[5], line 1\u001b[0m\n\u001b[0;32m----> 1\u001b[0m result \u001b[38;5;241m=\u001b[39m \u001b[43mquiz\u001b[49m\u001b[38;5;241;43m.\u001b[39;49m\u001b[43mtake_short_answer\u001b[49m\u001b[43m(\u001b[49m\u001b[38;5;241;43m100\u001b[39;49m\u001b[43m,\u001b[49m\u001b[43m \u001b[49m\u001b[43msave_questions\u001b[49m\u001b[38;5;241;43m=\u001b[39;49m\u001b[38;5;28;43;01mTrue\u001b[39;49;00m\u001b[43m,\u001b[49m\u001b[43m \u001b[49m\u001b[43msave_score\u001b[49m\u001b[38;5;241;43m=\u001b[39;49m\u001b[38;5;28;43;01mTrue\u001b[39;49;00m\u001b[43m,\u001b[49m\u001b[43m \u001b[49m\u001b[43mfile_path\u001b[49m\u001b[38;5;241;43m=\u001b[39;49m\u001b[38;5;124;43m\"\u001b[39;49m\u001b[38;5;124;43mresults/\u001b[39;49m\u001b[38;5;124;43m\"\u001b[39;49m\u001b[43m)\u001b[49m\n",
      "File \u001b[0;32m~/Desktop/dsci524_group13_quizit/myenv/lib/python3.11/site-packages/dsci524_group13_quizit/quizit.py:327\u001b[0m, in \u001b[0;36mQuizit.take_short_answer\u001b[0;34m(self, n, save_questions, save_score, file_path)\u001b[0m\n\u001b[1;32m    324\u001b[0m     \u001b[38;5;28;01mraise\u001b[39;00m \u001b[38;5;167;01mValueError\u001b[39;00m(\u001b[38;5;124m\"\u001b[39m\u001b[38;5;124mNo short-answer questions loaded.\u001b[39m\u001b[38;5;124m\"\u001b[39m)\n\u001b[1;32m    326\u001b[0m \u001b[38;5;28;01mif\u001b[39;00m n \u001b[38;5;241m>\u001b[39m \u001b[38;5;28mlen\u001b[39m(\u001b[38;5;28mself\u001b[39m\u001b[38;5;241m.\u001b[39mshrtq):\n\u001b[0;32m--> 327\u001b[0m     \u001b[38;5;28;01mraise\u001b[39;00m \u001b[38;5;167;01mValueError\u001b[39;00m(\u001b[38;5;124mf\u001b[39m\u001b[38;5;124m\"\u001b[39m\u001b[38;5;124mNot enough questions available. Only \u001b[39m\u001b[38;5;132;01m{\u001b[39;00m\u001b[38;5;28mlen\u001b[39m(\u001b[38;5;28mself\u001b[39m\u001b[38;5;241m.\u001b[39mshrtq)\u001b[38;5;132;01m}\u001b[39;00m\u001b[38;5;124m questions loaded.\u001b[39m\u001b[38;5;124m\"\u001b[39m)\n\u001b[1;32m    329\u001b[0m quiz \u001b[38;5;241m=\u001b[39m \u001b[38;5;28mself\u001b[39m\u001b[38;5;241m.\u001b[39mshrtq\u001b[38;5;241m.\u001b[39msample(n, ignore_index\u001b[38;5;241m=\u001b[39m\u001b[38;5;28;01mTrue\u001b[39;00m)\n\u001b[1;32m    330\u001b[0m question \u001b[38;5;241m=\u001b[39m quiz[\u001b[38;5;124m\"\u001b[39m\u001b[38;5;124mquestion\u001b[39m\u001b[38;5;124m\"\u001b[39m]\n",
      "\u001b[0;31mValueError\u001b[0m: Not enough questions available. Only 11 questions loaded."
     ]
    }
   ],
   "source": [
    "result = quiz.take_short_answer(100, save_questions=True, save_score=True, file_path=\"results/\")"
   ]
  },
  {
   "cell_type": "markdown",
   "metadata": {},
   "source": [
    "#### TypeError: Invalid Answer Format\n",
    "- The take_short_answer() method expects answers to be either one word or two words. If you enter an invalid format,you would get an error \"The answer must be either one word or two words\". Please ensure that the user inputs answers in the correct format as the hint shows!🐶"
   ]
  },
  {
   "cell_type": "code",
   "execution_count": 6,
   "metadata": {},
   "outputs": [
    {
     "name": "stdout",
     "output_type": "stream",
     "text": [
      "This quiz contains 2 questions.\n",
      "Question 1: What is the chemical symbol for water\n",
      "Hint: Your answer must be one word.\n"
     ]
    },
    {
     "name": "stdin",
     "output_type": "stream",
     "text": [
      "Enter Answer:  i dont know\n"
     ]
    },
    {
     "name": "stdout",
     "output_type": "stream",
     "text": [
      "Invalid answer. The answer must be either one word or two words.\n"
     ]
    },
    {
     "name": "stdin",
     "output_type": "stream",
     "text": [
      "Enter Answer:  H20\n"
     ]
    },
    {
     "name": "stdout",
     "output_type": "stream",
     "text": [
      "Question 2: What continent has the largest population\n",
      "Hint: Your answer must be one word.\n"
     ]
    },
    {
     "name": "stdin",
     "output_type": "stream",
     "text": [
      "Enter Answer:  PARIS\n"
     ]
    },
    {
     "name": "stdout",
     "output_type": "stream",
     "text": [
      "Score Log Saved to \"results/\"\n",
      "Question Log Saved to \"results/\"\n",
      "============================== \n",
      "Quiz Results\n",
      "Score: 0/2 (0.0%)\n",
      "Time used: 51.44 seconds\n"
     ]
    }
   ],
   "source": [
    "result = quiz.take_short_answer(2, save_questions=True, save_score=True, file_path=\"results/\")"
   ]
  },
  {
   "cell_type": "code",
   "execution_count": null,
   "metadata": {},
   "outputs": [],
   "source": []
  }
 ],
 "metadata": {
  "kernelspec": {
   "display_name": "Python (myenv)",
   "language": "python",
   "name": "myenv"
  },
  "language_info": {
   "codemirror_mode": {
    "name": "ipython",
    "version": 3
   },
   "file_extension": ".py",
   "mimetype": "text/x-python",
   "name": "python",
   "nbconvert_exporter": "python",
   "pygments_lexer": "ipython3",
   "version": "3.11.11"
  }
 },
 "nbformat": 4,
 "nbformat_minor": 4
}
