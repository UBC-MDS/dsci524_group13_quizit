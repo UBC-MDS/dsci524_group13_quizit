{
 "cells": [
  {
   "cell_type": "markdown",
   "metadata": {},
   "source": [
    "## Let's take some short-answer questions😄"
   ]
  },
  {
   "cell_type": "markdown",
   "metadata": {},
   "source": [
    "### ▶️Before you start working on the questions, you need to do some preparation!\n",
    "#### 1. Importing Required Libraries and Setting the path\n",
    "   - You need to import the necessary libraries. pandas is used to handle data (such as loading questions and answers), time is used to track the time, and os and sys are used for path management.\n",
    "   - If you're running your code in Jupyter or another editor, make sure you've added the project folder path to the system path, so Python can find the modules you need."
   ]
  },
  {
   "cell_type": "code",
   "execution_count": 1,
   "metadata": {},
   "outputs": [],
   "source": [
    "import pandas as pd\n",
    "import time\n",
    "import sys\n",
    "import os\n",
    "sys.path.append(os.path.join(os.getcwd(), '..'))\n",
    "\n",
    "from dsci524_group13_quizit.quizit import Quizit\n",
    "from dsci524_group13_quizit.utils import (score_log, question_log, QuizResult)\n"
   ]
  },
  {
   "cell_type": "markdown",
   "metadata": {},
   "source": [
    "#### 2. Loading the Questions you previously update.\n",
    "- After the necessary libraries are imported, you need to load the short-answer question data from the CSV file. You should find your short_answer.csv file that contains questions and answers.\n",
    "- ❌If the file path is incorrect, Python will throw a FileNotFoundError. Make sure the file path is relative to the script location, or provide an absolute path.\n",
    "- ❌If the CSV format is incorrect (missing required columns like question or answers), Python will raise a ValueError. Ensure the CSV has the correct format."
   ]
  },
  {
   "cell_type": "code",
   "execution_count": 2,
   "metadata": {},
   "outputs": [
    {
     "name": "stdout",
     "output_type": "stream",
     "text": [
      "                                         question              answers  \\\n",
      "0       What continent has the largest population                 Asia   \n",
      "1                   What is the capital of France                Paris   \n",
      "2  What is the largest planet in our solar system              Jupiter   \n",
      "3           What is the chemical symbol for water                  H2O   \n",
      "4                    Who wrote 'Romeo and Juliet'  William Shakespeare   \n",
      "\n",
      "                                        explanations  \n",
      "0  Asia is the most populous continent with over ...  \n",
      "1  Paris is the capital and most populous city of...  \n",
      "2  Jupiter is the largest planet in our solar sys...  \n",
      "3  H2O is the chemical formula for water, consist...  \n",
      "4  William Shakespeare was an English playwright ...  \n"
     ]
    }
   ],
   "source": [
    "file_path = '../tests/test_data/short_answer.csv'\n",
    "short_answer_data = pd.read_csv(file_path)\n",
    "print(short_answer_data.head())"
   ]
  },
  {
   "cell_type": "markdown",
   "metadata": {},
   "source": [
    "#### 3. Creating the Quizit Instance\n",
    "- Now that the question data is successfully loaded, create an instance of the Quizit class and load the question data into it.\n",
    "- If the short_answer_data was not loaded correctly😢, quiz.shrtq will be None, leading to a ValueError when you try to run the quiz."
   ]
  },
  {
   "cell_type": "code",
   "execution_count": 3,
   "metadata": {},
   "outputs": [],
   "source": [
    "quiz = Quizit()\n",
    "quiz.shrtq = short_answer_data"
   ]
  },
  {
   "cell_type": "markdown",
   "metadata": {},
   "source": [
    "### ⏸️ Ready to Run the Short Answer Quiz\n",
    "Now you can run the quiz using the take_short_answer() method. This method allows you to specify how many questions to ask, whether to save the questions and scores, and where to save the results.\n",
    "- 3 specifies that the quiz will present 3 questions.\n",
    "- save_questions=True means the questions (both correct and incorrect) will be saved to log files.\n",
    "- save_score=True means the final score and the time taken will be saved to a score.txt file.\n",
    "- file_path=\"results/\" specifies the directory where the logs will be saved."
   ]
  },
  {
   "cell_type": "code",
   "execution_count": 4,
   "metadata": {},
   "outputs": [
    {
     "name": "stdout",
     "output_type": "stream",
     "text": [
      "This quiz contains 1 questions.\n",
      "Question 1: Who painted the Mona Lisa\n",
      "Score Log Saved to \"results/\"\n",
      "Question Log Saved to \"results/\"\n",
      "============================== \n",
      "Quiz Results\n",
      "Score: 0/1 (0.0%)\n",
      "Time used: 57.01 seconds\n"
     ]
    }
   ],
   "source": [
    "result = quiz.take_short_answer(1, save_questions=True, save_score=True, file_path=\"results/\")"
   ]
  },
  {
   "cell_type": "markdown",
   "metadata": {},
   "source": [
    "##### 🎉 Congratulations! You finished the quiz with 100% using only 34.63 seconds yayyy!!"
   ]
  },
  {
   "cell_type": "markdown",
   "metadata": {},
   "source": [
    "### Here's some errors you might face 👇\n",
    "#### IndexError：Number of Questions Exceeds Available Data\n",
    "- If you try to ask more questions than are available in data set, an Error will occur, so make sure that the number of questions you specify (n) does not exceed the number of questions in the loaded dataset👌."
   ]
  },
  {
   "cell_type": "code",
   "execution_count": 5,
   "metadata": {},
   "outputs": [
    {
     "name": "stdout",
     "output_type": "stream",
     "text": [
      "This quiz contains 2 questions.\n",
      "Question 1: What continent has the largest population\n",
      "Hint: Your answer must be one word.\n",
      "Question 2: What is the chemical symbol for water\n",
      "Hint: Your answer must be one word.\n",
      "Score Log Saved to \"results/\"\n",
      "Question Log Saved to \"results/\"\n",
      "============================== \n",
      "Quiz Results\n",
      "Score: 1/2 (50.0%)\n",
      "Time used: 8.91 seconds\n"
     ]
    }
   ],
   "source": [
    "result = quiz.take_short_answer(2, save_questions=True, save_score=True, file_path=\"results/\")"
   ]
  },
  {
   "cell_type": "markdown",
   "metadata": {},
   "source": [
    "#### TypeError: Invalid Answer Format\n",
    "- The take_short_answer() method expects answers to be either one word or two words. If you enter an invalid format,you would get an error \"The answer must be either one word or two words\". Please ensure that the user inputs answers in the correct format as the hint shows!🐶"
   ]
  },
  {
   "cell_type": "code",
   "execution_count": 6,
   "metadata": {},
   "outputs": [
    {
     "name": "stdout",
     "output_type": "stream",
     "text": [
      "This quiz contains 2 questions.\n",
      "Question 1: What is the chemical symbol for water\n",
      "Hint: Your answer must be one word.\n"
     ]
    },
    {
     "name": "stdout",
     "output_type": "stream",
     "text": [
      "Enter Answer:  i dont know\n"
     ]
    },
    {
     "name": "stdout",
     "output_type": "stream",
     "text": [
      "Invalid answer. The answer must be either one word or two words.\n"
     ]
    },
    {
     "name": "stdout",
     "output_type": "stream",
     "text": [
      "Enter Answer:  H20\n"
     ]
    },
    {
     "name": "stdout",
     "output_type": "stream",
     "text": [
      "Question 2: What continent has the largest population\n",
      "Hint: Your answer must be one word.\n"
     ]
    },
    {
     "name": "stdout",
     "output_type": "stream",
     "text": [
      "Enter Answer:  PARIS\n"
     ]
    },
    {
     "name": "stdout",
     "output_type": "stream",
     "text": [
      "Score Log Saved to \"results/\"\n",
      "Question Log Saved to \"results/\"\n",
      "============================== \n",
      "Quiz Results\n",
      "Score: 0/2 (0.0%)\n",
      "Time used: 51.44 seconds\n"
     ]
    }
   ],
   "source": [
    "result = quiz.take_short_answer(2, save_questions=True, save_score=True, file_path=\"results/\")"
   ]
  }
 ],
 "metadata": {
  "kernelspec": {
   "display_name": "test",
   "language": "python",
   "name": "python3"
  },
  "language_info": {
   "codemirror_mode": {
    "name": "ipython",
    "version": 3
   },
   "file_extension": ".py",
   "mimetype": "text/x-python",
   "name": "python",
   "nbconvert_exporter": "python",
   "pygments_lexer": "ipython3",
   "version": "3.11.11"
  }
 },
 "nbformat": 4,
 "nbformat_minor": 4
}
